{
 "cells": [
  {
   "cell_type": "code",
   "execution_count": 1,
   "metadata": {},
   "outputs": [],
   "source": [
    "import rasterio as rio\n",
    "import pandas as pd\n",
    "import seaborn as sans\n",
    "import altair as alt"
   ]
  },
  {
   "cell_type": "code",
   "execution_count": 2,
   "metadata": {},
   "outputs": [],
   "source": [
    "with rio.open(\"/Users/elischwat/Downloads/NLCD_2016_nf_nooksack/NLCD_2016_Land_Cover_nf_nooksack.asc\") as src:\n",
    "     arr = src.read()"
   ]
  },
  {
   "cell_type": "markdown",
   "metadata": {},
   "source": [
    "https://www.mrlc.gov/data/legends/national-land-cover-database-2016-nlcd2016-legend"
   ]
  },
  {
   "cell_type": "code",
   "execution_count": 3,
   "metadata": {},
   "outputs": [],
   "source": [
    "names = {\n",
    "    0: \"Unclassified\",\n",
    "    11: \"Open Water\",\n",
    "    12: \"Perennial Ice/Snow\",\n",
    "    21: \"Developed, Open\",\n",
    "    22: \"Developed, Low Intensity\",\n",
    "    23: \"Developed, Medium Intensity\",\n",
    "    24: \"Developed, High Intensity\",\n",
    "    31: \"Barren Land (Rock/Sand/Clay)\",\n",
    "    41: \"Deciduous Forest\",\n",
    "    42: \"Evergreen Forest\",\n",
    "    43: \"Mixed Forest\",\n",
    "    52: \"Shrub/Scrub\",\n",
    "    71: \"Grassland/Herbaceous\",\n",
    "    81: \"Pasture/Hay\",\n",
    "    82: \"Cultivated Crops\",\n",
    "    90: \"Woody Wetlands\",\n",
    "    95: \"Emergent Herbaceous Wetlands\",\n",
    "}"
   ]
  },
  {
   "cell_type": "markdown",
   "metadata": {},
   "source": [
    "Filter out 0 (no category)."
   ]
  },
  {
   "cell_type": "code",
   "execution_count": 4,
   "metadata": {},
   "outputs": [],
   "source": [
    "series = pd.Series(arr.flatten())\n",
    "series = series[series != 0]\n",
    "series.replace(names, inplace=True)\n",
    "series = series.value_counts()"
   ]
  },
  {
   "cell_type": "code",
   "execution_count": 5,
   "metadata": {},
   "outputs": [],
   "source": [
    "df = pd.DataFrame(series).reset_index().rename(\n",
    "    {\n",
    "        'index': 'Category',\n",
    "        0: 'Frequency'\n",
    "    },\n",
    "    axis='columns'\n",
    ")"
   ]
  },
  {
   "cell_type": "code",
   "execution_count": 6,
   "metadata": {},
   "outputs": [
    {
     "data": {
      "text/html": [
       "\n",
       "<div id=\"altair-viz-26272ffcb9fb4da692ba3bddb2226275\"></div>\n",
       "<script type=\"text/javascript\">\n",
       "  (function(spec, embedOpt){\n",
       "    let outputDiv = document.currentScript.previousElementSibling;\n",
       "    if (outputDiv.id !== \"altair-viz-26272ffcb9fb4da692ba3bddb2226275\") {\n",
       "      outputDiv = document.getElementById(\"altair-viz-26272ffcb9fb4da692ba3bddb2226275\");\n",
       "    }\n",
       "    const paths = {\n",
       "      \"vega\": \"https://cdn.jsdelivr.net/npm//vega@5?noext\",\n",
       "      \"vega-lib\": \"https://cdn.jsdelivr.net/npm//vega-lib?noext\",\n",
       "      \"vega-lite\": \"https://cdn.jsdelivr.net/npm//vega-lite@4.8.1?noext\",\n",
       "      \"vega-embed\": \"https://cdn.jsdelivr.net/npm//vega-embed@6?noext\",\n",
       "    };\n",
       "\n",
       "    function loadScript(lib) {\n",
       "      return new Promise(function(resolve, reject) {\n",
       "        var s = document.createElement('script');\n",
       "        s.src = paths[lib];\n",
       "        s.async = true;\n",
       "        s.onload = () => resolve(paths[lib]);\n",
       "        s.onerror = () => reject(`Error loading script: ${paths[lib]}`);\n",
       "        document.getElementsByTagName(\"head\")[0].appendChild(s);\n",
       "      });\n",
       "    }\n",
       "\n",
       "    function showError(err) {\n",
       "      outputDiv.innerHTML = `<div class=\"error\" style=\"color:red;\">${err}</div>`;\n",
       "      throw err;\n",
       "    }\n",
       "\n",
       "    function displayChart(vegaEmbed) {\n",
       "      vegaEmbed(outputDiv, spec, embedOpt)\n",
       "        .catch(err => showError(`Javascript Error: ${err.message}<br>This usually means there's a typo in your chart specification. See the javascript console for the full traceback.`));\n",
       "    }\n",
       "\n",
       "    if(typeof define === \"function\" && define.amd) {\n",
       "      requirejs.config({paths});\n",
       "      require([\"vega-embed\"], displayChart, err => showError(`Error loading script: ${err.message}`));\n",
       "    } else if (typeof vegaEmbed === \"function\") {\n",
       "      displayChart(vegaEmbed);\n",
       "    } else {\n",
       "      loadScript(\"vega\")\n",
       "        .then(() => loadScript(\"vega-lite\"))\n",
       "        .then(() => loadScript(\"vega-embed\"))\n",
       "        .catch(showError)\n",
       "        .then(() => displayChart(vegaEmbed));\n",
       "    }\n",
       "  })({\"config\": {\"view\": {\"continuousWidth\": 400, \"continuousHeight\": 300}}, \"data\": {\"name\": \"data-abb3f80eebea572b7506c037d4665c36\"}, \"mark\": \"bar\", \"encoding\": {\"x\": {\"type\": \"nominal\", \"axis\": {\"labelAngle\": 30}, \"field\": \"Category\", \"sort\": \"-y\"}, \"y\": {\"type\": \"quantitative\", \"field\": \"Frequency\"}}, \"width\": 500, \"$schema\": \"https://vega.github.io/schema/vega-lite/v4.8.1.json\", \"datasets\": {\"data-abb3f80eebea572b7506c037d4665c36\": [{\"Category\": \"Evergreen Forest\", \"Frequency\": 560936}, {\"Category\": \"Shrub/Scrub\", \"Frequency\": 99692}, {\"Category\": \"Barren Land (Rock/Sand/Clay)\", \"Frequency\": 47214}, {\"Category\": \"Mixed Forest\", \"Frequency\": 45176}, {\"Category\": \"Perennial Ice/Snow\", \"Frequency\": 20025}, {\"Category\": \"Deciduous Forest\", \"Frequency\": 19261}, {\"Category\": \"Grassland/Herbaceous\", \"Frequency\": 15685}, {\"Category\": \"Developed, Open\", \"Frequency\": 12484}, {\"Category\": \"Woody Wetlands\", \"Frequency\": 6936}, {\"Category\": \"Pasture/Hay\", \"Frequency\": 6769}, {\"Category\": \"Developed, Low Intensity\", \"Frequency\": 4780}, {\"Category\": \"Emergent Herbaceous Wetlands\", \"Frequency\": 4226}, {\"Category\": \"Open Water\", \"Frequency\": 3162}, {\"Category\": \"Developed, Medium Intensity\", \"Frequency\": 728}, {\"Category\": \"Developed, High Intensity\", \"Frequency\": 282}, {\"Category\": \"Cultivated Crops\", \"Frequency\": 11}]}}, {\"mode\": \"vega-lite\"});\n",
       "</script>"
      ],
      "text/plain": [
       "alt.Chart(...)"
      ]
     },
     "execution_count": 6,
     "metadata": {},
     "output_type": "execute_result"
    }
   ],
   "source": [
    "alt.Chart(df).mark_bar().encode(\n",
    "    x = alt.X('Category', axis=alt.Axis(labelAngle=30), sort='-y'),\n",
    "    y = 'Frequency'\n",
    ").properties(width=500)"
   ]
  }
 ],
 "metadata": {
  "kernelspec": {
   "display_name": "Python 3",
   "language": "python",
   "name": "python3"
  },
  "language_info": {
   "codemirror_mode": {
    "name": "ipython",
    "version": 3
   },
   "file_extension": ".py",
   "mimetype": "text/x-python",
   "name": "python",
   "nbconvert_exporter": "python",
   "pygments_lexer": "ipython3",
   "version": "3.8.5"
  }
 },
 "nbformat": 4,
 "nbformat_minor": 4
}
